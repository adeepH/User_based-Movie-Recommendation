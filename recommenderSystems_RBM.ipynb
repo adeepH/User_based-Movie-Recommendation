{
  "nbformat": 4,
  "nbformat_minor": 0,
  "metadata": {
    "colab": {
      "name": "recommenderSystems-RBM.ipynb",
      "provenance": [],
      "mount_file_id": "1gQm6dOAyrapZGjADtkFwzpo03MBREkoG",
      "authorship_tag": "ABX9TyPWxm7f5xAfQYq34PBQh/kJ",
      "include_colab_link": true
    },
    "kernelspec": {
      "name": "python3",
      "display_name": "Python 3"
    }
  },
  "cells": [
    {
      "cell_type": "markdown",
      "metadata": {
        "id": "view-in-github",
        "colab_type": "text"
      },
      "source": [
        "<a href=\"https://colab.research.google.com/github/adeepH/User_based-Movie-Recommendation/blob/using-RBM/recommenderSystems_RBM.ipynb\" target=\"_parent\"><img src=\"https://colab.research.google.com/assets/colab-badge.svg\" alt=\"Open In Colab\"/></a>"
      ]
    },
    {
      "cell_type": "code",
      "metadata": {
        "id": "XEMEDgD7mMIV",
        "colab_type": "code",
        "outputId": "615e968c-c99c-44ca-e8e3-37a8f521e50b",
        "colab": {
          "base_uri": "https://localhost:8080/",
          "height": 125
        }
      },
      "source": [
        "from google.colab import drive\n",
        "drive.mount('/content/gdrive')"
      ],
      "execution_count": 1,
      "outputs": [
        {
          "output_type": "stream",
          "text": [
            "Go to this URL in a browser: https://accounts.google.com/o/oauth2/auth?client_id=947318989803-6bn6qk8qdgf4n4g3pfee6491hc0brc4i.apps.googleusercontent.com&redirect_uri=urn%3aietf%3awg%3aoauth%3a2.0%3aoob&response_type=code&scope=email%20https%3a%2f%2fwww.googleapis.com%2fauth%2fdocs.test%20https%3a%2f%2fwww.googleapis.com%2fauth%2fdrive%20https%3a%2f%2fwww.googleapis.com%2fauth%2fdrive.photos.readonly%20https%3a%2f%2fwww.googleapis.com%2fauth%2fpeopleapi.readonly\n",
            "\n",
            "Enter your authorization code:\n",
            "··········\n",
            "Mounted at /content/gdrive\n"
          ],
          "name": "stdout"
        }
      ]
    },
    {
      "cell_type": "code",
      "metadata": {
        "id": "-VSZkxnGQD1M",
        "colab_type": "code",
        "colab": {}
      },
      "source": [
        "import pandas as pd\n",
        "import numpy as np\n",
        "import torch\n",
        "import torch.nn as nn\n",
        "import torch.nn.parallel\n",
        "import torch.optim as optim\n",
        "import torch.utils.data\n",
        "from torch.autograd import Variable"
      ],
      "execution_count": 0,
      "outputs": []
    },
    {
      "cell_type": "code",
      "metadata": {
        "id": "qWtehoiWQqIj",
        "colab_type": "code",
        "colab": {}
      },
      "source": [
        "# Importing the dataset\n",
        "movies = pd.read_csv('movies.dat', sep = '::', header = None, engine = 'python', encoding = 'latin-1')\n",
        "users = pd.read_csv('users.dat', sep = '::', header = None, engine = 'python', encoding = 'latin-1')\n",
        "ratings = pd.read_csv('ratings.dat', sep = '::', header = None, engine = 'python', encoding = 'latin-1')\n"
      ],
      "execution_count": 0,
      "outputs": []
    },
    {
      "cell_type": "code",
      "metadata": {
        "id": "ETT8e54rkpyr",
        "colab_type": "code",
        "colab": {}
      },
      "source": [
        "#Preparing the training set and the test set\n",
        "training_set = pd.read_csv('u1.base',delimiter='\\t')\n",
        "training_set = np.array(training_set, dtype='int')\n",
        "test_set = pd.read_csv('u1.test',delimiter='\\t')\n",
        "test_set = np.array(test_set,dtype='int')"
      ],
      "execution_count": 0,
      "outputs": []
    },
    {
      "cell_type": "code",
      "metadata": {
        "id": "uuch1QP1uPML",
        "colab_type": "code",
        "colab": {}
      },
      "source": [
        "#getting the number of users and movies\n",
        "nb_users = int(max(max(training_set[:,0]),max(test_set[:,0])))\n",
        "nb_movies = int(max(max(training_set[:,1]),max(test_set[:,1])))"
      ],
      "execution_count": 0,
      "outputs": []
    },
    {
      "cell_type": "code",
      "metadata": {
        "id": "BXws0St5vlxP",
        "colab_type": "code",
        "colab": {}
      },
      "source": [
        "#Converting the data into an array with users in lines and movies in columns\n",
        "\n",
        "def convert(data):\n",
        "  new_data = []\n",
        "  for id_users in range(1,nb_users+1):\n",
        "    id_movies = data[:,1][data[:,0] == id_users]\n",
        "    id_ratings = data[:,1][data[:,0] == id_users]\n",
        "    ratings =np.zeros(nb_movies)\n",
        "    ratings[id_movies -1] = id_ratings\n",
        "    new_data.append(list(ratings))\n",
        "  return new_data\n",
        "\n",
        "\n",
        "training_set = convert(training_set)\n",
        "test_set = convert(test_set)\n",
        "\n"
      ],
      "execution_count": 0,
      "outputs": []
    },
    {
      "cell_type": "code",
      "metadata": {
        "id": "ybHy9vrjkD1c",
        "colab_type": "code",
        "colab": {}
      },
      "source": [
        "#Converting the data into torch tensor\n",
        "training_set = torch.FloatTensor(training_set)\n",
        "test_set = torch.FloatTensor(test_set)"
      ],
      "execution_count": 0,
      "outputs": []
    },
    {
      "cell_type": "code",
      "metadata": {
        "id": "sEg09JujlsEe",
        "colab_type": "code",
        "colab": {}
      },
      "source": [
        "#converting the ratings into binary ratings 1(liked) and 0(disliked)\n",
        "training_set[training_set == 0] = -1\n",
        "training_set[training_set == 1] = 0\n",
        "training_set[training_set == 2] = 0\n",
        "#there is no or function in torch tensors\n",
        "training_set[training_set >=3] = 1\n",
        "#now for the test set to be converted into torch tensors\n",
        "test_set[test_set == 0] = -1\n",
        "test_set[test_set == 1] = 0\n",
        "test_set[test_set == 2] = 0\n",
        "test_set[test_set >= 3] = 1\n",
        "\n",
        "\n",
        "\n"
      ],
      "execution_count": 0,
      "outputs": []
    },
    {
      "cell_type": "code",
      "metadata": {
        "id": "47_k2hKnoPY7",
        "colab_type": "code",
        "colab": {}
      },
      "source": [
        "#Creating the architecture of the Neural Network\n",
        "\"\"\"RBM is a probablistic model so we define a class RBm\n",
        "#self is the object that will be created afterwards\n",
        "nv is the number of visible nodes and nh being the number of hidden nodes\"\"\"\n",
        "\"\"\"defining the biasal distribution\"\"\"\n",
        "#2D tensor\n",
        "\"\"\"bias for visible nodes\"\"\"\n",
        "\"\"\"activation function represents the probability\"\"\"\n",
        "#\"\"\"refer to the Restricted boltzman machines paper published for the below algorithm\"\"\"\n",
        "class RBM():\n",
        "    def __init__(self, nv, nh):\n",
        "        self.W = torch.randn(nh, nv)\n",
        "        self.a = torch.randn(1, nh)\n",
        "        self.b = torch.randn(1, nv)\n",
        "    def sample_h(self, x):\n",
        "        wx = torch.mm(x, self.W.t())\n",
        "        activation = wx + self.a.expand_as(wx)\n",
        "        p_h_given_v = torch.sigmoid(activation)\n",
        "        return p_h_given_v, torch.bernoulli(p_h_given_v)\n",
        "    def sample_v(self, y):\n",
        "        wy = torch.mm(y, self.W)\n",
        "        activation = wy + self.b.expand_as(wy)\n",
        "        p_v_given_h = torch.sigmoid(activation)\n",
        "        return p_v_given_h, torch.bernoulli(p_v_given_h)\n",
        "    def train(self, v0, vk, ph0, phk):\n",
        "        self.W += (torch.mm(v0.t(), ph0) - torch.mm(vk.t(), phk)).t()\n",
        "        self.b += torch.sum((v0 - vk), 0)\n",
        "        self.a += torch.sum((ph0 - phk), 0)\n"
      ],
      "execution_count": 0,
      "outputs": []
    },
    {
      "cell_type": "code",
      "metadata": {
        "id": "XwfytD8W78x9",
        "colab_type": "code",
        "colab": {}
      },
      "source": [
        "#creating an RBM object\n",
        "nv = len(training_set[0])\n",
        "nh = 100\n",
        "batch_size = 100\n",
        "rbm = RBM(nv, nh)\n"
      ],
      "execution_count": 0,
      "outputs": []
    },
    {
      "cell_type": "code",
      "metadata": {
        "id": "wyupuLoo8n9Q",
        "colab_type": "code",
        "colab": {
          "base_uri": "https://localhost:8080/",
          "height": 194
        },
        "outputId": "69988e94-4bea-4cff-c14a-bcba16de0562"
      },
      "source": [
        "#Training the  sample RBM\n",
        "#We are going to normalise the training set\n",
        "# to return only one of the 2 things from sample h\n",
        "#k steps of the contrastic divergence in for loops\n",
        "nb_epoch = 10\n",
        "for epoch in range(1, nb_epoch + 1):\n",
        "    train_loss = 0\n",
        "    s = 0.\n",
        "    for id_user in range(0, nb_users - batch_size, batch_size):\n",
        "        vk = training_set[id_user:id_user+batch_size]\n",
        "        v0 = training_set[id_user:id_user+batch_size]\n",
        "        ph0,_ = rbm.sample_h(v0)\n",
        "        for k in range(0,10):\n",
        "            _,hk = rbm.sample_h(vk)\n",
        "            _,vk = rbm.sample_v(hk)\n",
        "            vk[v0<0] = v0[v0<0]\n",
        "        phk,_ = rbm.sample_h(vk)\n",
        "        rbm.train(v0, vk, ph0, phk)\n",
        "        train_loss += torch.mean(torch.abs(v0[v0>=0] - vk[v0>=0]))\n",
        "        s += 1.\n",
        "    print('epoch: '+str(epoch)+' loss: '+str(train_loss/s))\n",
        "\n"
      ],
      "execution_count": 25,
      "outputs": [
        {
          "output_type": "stream",
          "text": [
            "epoch: 1 loss: tensor(0.1996)\n",
            "epoch: 2 loss: tensor(0.0105)\n",
            "epoch: 3 loss: tensor(0.0049)\n",
            "epoch: 4 loss: tensor(0.0028)\n",
            "epoch: 5 loss: tensor(0.0020)\n",
            "epoch: 6 loss: tensor(0.0013)\n",
            "epoch: 7 loss: tensor(0.0012)\n",
            "epoch: 8 loss: tensor(0.0011)\n",
            "epoch: 9 loss: tensor(0.0008)\n",
            "epoch: 10 loss: tensor(0.0009)\n"
          ],
          "name": "stdout"
        }
      ]
    },
    {
      "cell_type": "code",
      "metadata": {
        "id": "NfVvJOAJ8qOf",
        "colab_type": "code",
        "colab": {
          "base_uri": "https://localhost:8080/",
          "height": 194
        },
        "outputId": "a7e1328e-44e4-471d-84b5-8e171e11c7e9"
      },
      "source": [
        "#Testing the RBM\n",
        "\n",
        "for epoch in range(1, nb_epoch + 1):\n",
        "    test_loss = 0\n",
        "    s = 0.\n",
        "    for id_user in range(0, nb_users):\n",
        "        v = training_set[id_user:id_user+1]\n",
        "        vt = test_set[id_user:id_user+1]\n",
        "        if len(vt[vt>=0]) > 0:\n",
        "            _,h = rbm.sample_h(v)\n",
        "            _,v = rbm.sample_v(h)\n",
        "            test_loss += torch.mean(torch.abs(vt[vt>=0] - v[vt>=0]))\n",
        "            s += 1.\n",
        "    print('test_loss: '+str(test_loss/s))\n",
        "#print( ' Accuracy : '+str(1 - test_loss/s)*100 +'%')\n"
      ],
      "execution_count": 29,
      "outputs": [
        {
          "output_type": "stream",
          "text": [
            "test_loss: tensor(0.0024)\n",
            "test_loss: tensor(0.0021)\n",
            "test_loss: tensor(0.0024)\n",
            "test_loss: tensor(0.0021)\n",
            "test_loss: tensor(0.0020)\n",
            "test_loss: tensor(0.0020)\n",
            "test_loss: tensor(0.0023)\n",
            "test_loss: tensor(0.0023)\n",
            "test_loss: tensor(0.0018)\n",
            "test_loss: tensor(0.0021)\n"
          ],
          "name": "stdout"
        }
      ]
    },
    {
      "cell_type": "code",
      "metadata": {
        "id": "K5floWm2Lcxv",
        "colab_type": "code",
        "colab": {
          "base_uri": "https://localhost:8080/",
          "height": 194
        },
        "outputId": "50bcb13e-d27c-4864-c61f-320a5def5747"
      },
      "source": [
        "#using a different loss function\n",
        "#Root Mean Squared Error(RMSE)\n",
        "nb_epoch = 10\n",
        "for epoch in range(1, nb_epoch + 1):\n",
        "    train_loss = 0\n",
        "    s = 0.\n",
        "    for id_user in range(0, nb_users - batch_size, batch_size):\n",
        "        vk = training_set[id_user:id_user+batch_size]\n",
        "        v0 = training_set[id_user:id_user+batch_size]\n",
        "        ph0,_ = rbm.sample_h(v0)\n",
        "        for k in range(0,10):\n",
        "            _,hk = rbm.sample_h(vk)\n",
        "            _,vk = rbm.sample_v(hk)\n",
        "            vk[v0<0] = v0[v0<0]\n",
        "        phk,_ = rbm.sample_h(vk)\n",
        "        rbm.train(v0, vk, ph0, phk)\n",
        "        train_loss += torch.mean(torch.abs(v0[v0>=0] - vk[v0>=0])**2)\n",
        "        s += 1.\n",
        "    print('epoch: '+str(epoch)+' loss: '+str(train_loss/s))\n"
      ],
      "execution_count": 30,
      "outputs": [
        {
          "output_type": "stream",
          "text": [
            "epoch: 1 loss: tensor(0.0010)\n",
            "epoch: 2 loss: tensor(0.0006)\n",
            "epoch: 3 loss: tensor(0.0006)\n",
            "epoch: 4 loss: tensor(0.0004)\n",
            "epoch: 5 loss: tensor(0.0004)\n",
            "epoch: 6 loss: tensor(0.0004)\n",
            "epoch: 7 loss: tensor(0.0004)\n",
            "epoch: 8 loss: tensor(0.0004)\n",
            "epoch: 9 loss: tensor(0.0003)\n",
            "epoch: 10 loss: tensor(0.0003)\n"
          ],
          "name": "stdout"
        }
      ]
    },
    {
      "cell_type": "code",
      "metadata": {
        "id": "IgqYX6X6MAIH",
        "colab_type": "code",
        "colab": {
          "base_uri": "https://localhost:8080/",
          "height": 194
        },
        "outputId": "2738dd0a-00d2-4ab1-e82d-80a098ddf996"
      },
      "source": [
        "#Testing the RBM using a different Loss function\n",
        "for epoch in range(1, nb_epoch + 1):\n",
        "    test_loss_2 = 0\n",
        "    s = 0.\n",
        "    for id_user in range(0, nb_users):\n",
        "        v = training_set[id_user:id_user+1]\n",
        "        vt = test_set[id_user:id_user+1]\n",
        "        if len(vt[vt>=0]) > 0:\n",
        "            _,h = rbm.sample_h(v)\n",
        "            _,v = rbm.sample_v(h)\n",
        "            test_loss_2 += torch.mean(torch.abs(vt[vt>=0] - v[vt>=0])**2)\n",
        "            s += 1.\n",
        "    print('test_loss: '+str(test_loss_2/s))"
      ],
      "execution_count": 33,
      "outputs": [
        {
          "output_type": "stream",
          "text": [
            "test_loss: tensor(0.0007)\n",
            "test_loss: tensor(0.0010)\n",
            "test_loss: tensor(0.0015)\n",
            "test_loss: tensor(0.0011)\n",
            "test_loss: tensor(0.0013)\n",
            "test_loss: tensor(0.0007)\n",
            "test_loss: tensor(0.0010)\n",
            "test_loss: tensor(0.0010)\n",
            "test_loss: tensor(0.0009)\n",
            "test_loss: tensor(0.0011)\n"
          ],
          "name": "stdout"
        }
      ]
    },
    {
      "cell_type": "code",
      "metadata": {
        "id": "lWEaeZTRMnxu",
        "colab_type": "code",
        "colab": {
          "base_uri": "https://localhost:8080/",
          "height": 34
        },
        "outputId": "61a96c95-c07b-4fb1-f959-74ad8077f743"
      },
      "source": [
        "#comparing the 2 torch tensors\n",
        "torch.max(test_loss,test_loss_2)"
      ],
      "execution_count": 34,
      "outputs": [
        {
          "output_type": "execute_result",
          "data": {
            "text/plain": [
              "tensor(0.4931)"
            ]
          },
          "metadata": {
            "tags": []
          },
          "execution_count": 34
        }
      ]
    },
    {
      "cell_type": "code",
      "metadata": {
        "id": "3ODYmB6YMwW6",
        "colab_type": "code",
        "colab": {}
      },
      "source": [
        ""
      ],
      "execution_count": 0,
      "outputs": []
    }
  ]
}